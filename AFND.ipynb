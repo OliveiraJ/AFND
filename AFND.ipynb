{
 "cells": [
  {
   "cell_type": "markdown",
   "id": "aa6898af-ad62-499e-8471-52e11f1b240d",
   "metadata": {},
   "source": [
    "#AFN"
   ]
  },
  {
   "cell_type": "markdown",
   "id": "f99b26bf-32e0-4daa-a384-7b35bde25f7f",
   "metadata": {},
   "source": [
    "__Autômato Finito Não Determinístico__ ou AFN, se trata de uma máquina de estados finita onde para cada par de estado e símbolo de entrada pode haver vários próximos estados póssíveis, tal característica o distingue do __autômato finito determinístico__ ou AFD, onde o próximo estado possível é determinado. Apesar das diferenças AFD e AFN pode ser provado que para qualquer AFN dado um AFD equivalente pode ser construído e vice-versa.\n",
    "\n",
    "Um __AFN__ pode ser definido formalmente como uma _5-tupla_, __M = (Q,Σ,δ,q0,F)__:\n",
    "    * um conjunto finito de estados Q;\n",
    "    * um conjunto finito de símbolos de entrada Σ, denominado o alfabeto;\n",
    "    * uma função de transição δ:QxΣ->P(Q);\n",
    "    * um estado inicial qO ∈ Q;\n",
    "    * um conjunto distindo de estados F (finais) como estados de aceitação, F ⊆ Q."
   ]
  },
  {
   "cell_type": "markdown",
   "id": "9c0a78c7-e1f0-4137-8b1f-8d9cc7a1b6ae",
   "metadata": {},
   "source": [
    "<img src = \"assets/afn.jpg\">"
   ]
  },
  {
   "cell_type": "code",
   "execution_count": null,
   "id": "122b81db-4afb-4a49-b921-d671eb64434e",
   "metadata": {},
   "outputs": [],
   "source": [
    "class AFN:\n",
    "    # Função construtora da classe AFN\n",
    "    def __init__(self):\n",
    "        self.estados = []\n",
    "        self.simbolos = []\n",
    "        self.mapa = dict()\n",
    "        self.palavras = []\n",
    "        self.estadosFinais = []\n",
    "        self.estadoInicial = str\n",
    "        self.pilha = []\n",
    "\n",
    "    # Cria um dicionário (mapa em python) para armazenar as transições do AFN\n",
    "    def preencheDic(self):\n",
    "        #recebe o número de transições\n",
    "        num_transicoes = int(input())\n",
    "\n",
    "        for i in range (0, num_transicoes):\n",
    "            transicoes = input().split()\n",
    "            trans = transicoes[0]+transicoes[1]\n",
    "            if(trans in self.mapa):\n",
    "                self.mapa[trans] = self.mapa[trans] + [transicoes[2]] \n",
    "            else:\n",
    "                novaTransicao = {transicoes[0]+transicoes[1]:[transicoes[2]]}\n",
    "                self.mapa.update(novaTransicao)\n",
    "\n",
    "    # Percorre a palavra a partir do seu estado inicial\n",
    "    def lePalavra(self, palavra, estadoInicial):\n",
    "        self.pilha = [estadoInicial]\n",
    "        for char in palavra:\n",
    "            novaPilha = []\n",
    "            for estado in self.pilha:\n",
    "                if ((estado + char) in self.mapa):\n",
    "                    proximoEstado = self.mapa.get(estado+char)\n",
    "                else:\n",
    "                    proximoEstado = False\n",
    "\n",
    "                if(proximoEstado):\n",
    "                    for estado in proximoEstado:\n",
    "                        novaPilha.append(estado)\n",
    "            self.pilha = novaPilha\n",
    "        \n",
    "        self.aceitaPalavra()\n",
    "    \n",
    "    # Escreve 'S' se a palavra for aceita e 'N' se a apalvra não for aceita pelo AFN\n",
    "    def aceitaPalavra(self):\n",
    "        ehAceita = False\n",
    "        for estado in self.pilha:\n",
    "            if(estado in self.estadosFinais):\n",
    "                ehAceita = True\n",
    "                break\n",
    "    \n",
    "        if(ehAceita):\n",
    "            print('S')\n",
    "        else:\n",
    "            print('N')\n",
    "\n",
    "# Testa as palavras presentes no array palavras\n",
    "def testaPalavra(L):\n",
    "    for palavra in L.palavras:\n",
    "        L.lePalavra(palavra, L.estadoInicial)\n",
    "\n",
    "# Cria um novo objeto da classe linguagem e preenche seus atributos com parâmetros definitos pelo usuário\n",
    "def criaAFN():\n",
    "\n",
    "    L = AFN()\n",
    "\n",
    "    L.estados = input()\n",
    "    L.simbolos = input()\n",
    "    L.preencheDic()\n",
    "    L.estadoInicial = input()\n",
    "    L.estadosFinais = input().split()\n",
    "    L.palavras = input().split()\n",
    "    return L\n",
    "\n",
    "novaL = criaAFN()\n",
    "testaPalavra(novaL)"
   ]
  }
 ],
 "metadata": {
  "kernelspec": {
   "display_name": "Python 3 (ipykernel)",
   "language": "python",
   "name": "python3"
  },
  "language_info": {
   "codemirror_mode": {
    "name": "ipython",
    "version": 3
   },
   "file_extension": ".py",
   "mimetype": "text/x-python",
   "name": "python",
   "nbconvert_exporter": "python",
   "pygments_lexer": "ipython3",
   "version": "3.9.7"
  }
 },
 "nbformat": 4,
 "nbformat_minor": 5
}
